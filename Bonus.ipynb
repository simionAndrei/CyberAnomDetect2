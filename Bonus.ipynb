{
 "cells": [
  {
   "cell_type": "markdown",
   "metadata": {},
   "source": [
    "# Autoencoders for Anomaly Detection\n",
    "\n",
    "Based on the article at https://bit.ly/2VgNyl7, made for the bonus task of the cyber data analytics class. Download the data and adjust the paths in the next cells.\n",
    "\n",
    "Requires \n",
    "* seaborn\n",
    "* tensorflow\n",
    "* keras\n",
    "* sklearn\n",
    "* pyplot, pylab\n",
    "\n",
    "and for visualizing the network also the graphviz package. Install directly from the notebook with **!pip install package**"
   ]
  },
  {
   "cell_type": "code",
   "execution_count": 1,
   "metadata": {
    "ExecuteTime": {
     "end_time": "2019-05-27T22:04:28.416941Z",
     "start_time": "2019-05-27T22:04:28.406050Z"
    }
   },
   "outputs": [
    {
     "name": "stderr",
     "output_type": "stream",
     "text": [
      "Using TensorFlow backend.\n"
     ]
    }
   ],
   "source": [
    "%matplotlib inline\n",
    "import matplotlib.pyplot as plt\n",
    "import seaborn as sns\n",
    "\n",
    "import pandas as pd\n",
    "import numpy as np\n",
    "\n",
    "import tensorflow as tf\n",
    "from keras.models import Model, load_model\n",
    "from keras.layers import Input, Dense\n",
    "from keras.callbacks import ModelCheckpoint, TensorBoard\n",
    "from keras import regularizers\n",
    "\n",
    "from sklearn.preprocessing import StandardScaler\n",
    "from sklearn.model_selection import train_test_split\n",
    "from sklearn.metrics import confusion_matrix, precision_recall_curve\n",
    "from sklearn.metrics import recall_score, classification_report, auc, roc_curve\n",
    "from sklearn.metrics import precision_recall_fscore_support, f1_score\n",
    "\n",
    "from numpy.random import seed\n",
    "seed(1)\n",
    "from tensorflow import set_random_seed\n",
    "set_random_seed(2)\n",
    "\n",
    "SEED = 123 \n",
    "DATA_SPLIT_PCT = 0.2\n",
    "\n",
    "LABELS = [\"Normal\",\"Attack\"]\n",
    "\n",
    "# please adjust the dataset paths\n",
    "NORMAL = \"data/BATADAL_dataset03.csv\"\n",
    "MIXED = \"data/BATADAL_dataset04.csv\"\n",
    "TEST  = \"data/BATADAL_test_dataset_labeled.csv\""
   ]
  },
  {
   "cell_type": "code",
   "execution_count": 2,
   "metadata": {
    "ExecuteTime": {
     "end_time": "2019-05-27T22:04:28.490859Z",
     "start_time": "2019-05-27T22:04:28.418839Z"
    }
   },
   "outputs": [],
   "source": [
    "df_normal =  pd.read_csv(NORMAL, skipinitialspace=True)\n",
    "df_mixed = pd.read_csv(MIXED, skipinitialspace=True)\n",
    "df_test  = pd.read_csv(TEST, skipinitialspace=True)"
   ]
  },
  {
   "cell_type": "markdown",
   "metadata": {},
   "source": [
    "Harmonize the labels across the datasets to 0 / 1\n",
    "\n",
    "**WARNING**: THIS TREATS *unlabeled* DATA AS NORMAL, see https://batadal.net/images/rules.pdf for the documentation of the -999 value.\n"
   ]
  },
  {
   "cell_type": "code",
   "execution_count": 3,
   "metadata": {
    "ExecuteTime": {
     "end_time": "2019-05-27T22:04:28.495346Z",
     "start_time": "2019-05-27T22:04:28.492085Z"
    }
   },
   "outputs": [],
   "source": [
    "df_mixed.ATT_FLAG.replace([-999, 1], [0, 1], inplace=True)"
   ]
  },
  {
   "cell_type": "markdown",
   "metadata": {},
   "source": [
    "Drop non-numeric columns, concatenate the dataframes.\n",
    "We train the autoencoder on the normal data from BATADAL_dataset03 and test on BATADAL_dataset04"
   ]
  },
  {
   "cell_type": "code",
   "execution_count": 4,
   "metadata": {
    "ExecuteTime": {
     "end_time": "2019-05-27T22:04:28.511711Z",
     "start_time": "2019-05-27T22:04:28.496963Z"
    }
   },
   "outputs": [
    {
     "name": "stdout",
     "output_type": "stream",
     "text": [
      "407\n"
     ]
    }
   ],
   "source": [
    "df_normal = df_normal.drop(['DATETIME'], axis=1)\n",
    "df_mixed = df_mixed.drop(['DATETIME'], axis=1)\n",
    "df_test = df_test.drop(['DATETIME'], axis=1)\n",
    "\n",
    "print(sum(df_test['ATT_FLAG'] == 1))\n",
    "\n",
    "df = pd.concat([df_normal, df_mixed], ignore_index=True)"
   ]
  },
  {
   "cell_type": "markdown",
   "metadata": {},
   "source": [
    "Splitting into training, validation, testing, group into classes"
   ]
  },
  {
   "cell_type": "code",
   "execution_count": 5,
   "metadata": {
    "ExecuteTime": {
     "end_time": "2019-05-27T22:04:28.527210Z",
     "start_time": "2019-05-27T22:04:28.513596Z"
    }
   },
   "outputs": [],
   "source": [
    "df_train, df_valid = train_test_split(df, test_size = 0.1, random_state=SEED)\n",
    "#df_train, df_valid = train_test_split(df_train, test_size=DATA_SPLIT_PCT, random_state=SEED)"
   ]
  },
  {
   "cell_type": "code",
   "execution_count": 6,
   "metadata": {
    "ExecuteTime": {
     "end_time": "2019-05-27T22:04:28.545427Z",
     "start_time": "2019-05-27T22:04:28.528427Z"
    }
   },
   "outputs": [
    {
     "name": "stdout",
     "output_type": "stream",
     "text": [
      "(407, 43)\n"
     ]
    }
   ],
   "source": [
    "df_train_0 = df_train[df_train['ATT_FLAG'] == 0]\n",
    "df_train_1 = df_train[df_train['ATT_FLAG'] == 1]\n",
    "\n",
    "df_train_0_x = df_train_0.drop(['ATT_FLAG'], axis=1)\n",
    "df_train_1_x = df_train_1.drop(['ATT_FLAG'], axis=1)\n",
    "\n",
    "\n",
    "df_valid_0 = df_valid.loc[df_valid['ATT_FLAG'] == 0]\n",
    "df_valid_1 = df_valid.loc[df_valid['ATT_FLAG'] == 1]\n",
    "\n",
    "df_valid_0_x = df_valid_0.drop(['ATT_FLAG'], axis=1)\n",
    "df_valid_1_x = df_valid_1.drop(['ATT_FLAG'], axis=1)\n",
    "\n",
    "\n",
    "df_test_0 = df_test[df_test['ATT_FLAG'] == 0]\n",
    "df_test_1 = df_test[df_test['ATT_FLAG'] == 1]\n",
    "\n",
    "df_test_0_x = df_test_0.drop(['ATT_FLAG'], axis=1)\n",
    "df_test_1_x = df_test_1.drop(['ATT_FLAG'], axis=1)\n",
    "\n",
    "print(df_test_1_x.shape)"
   ]
  },
  {
   "cell_type": "markdown",
   "metadata": {},
   "source": [
    "Scale the data to 0-1 range"
   ]
  },
  {
   "cell_type": "code",
   "execution_count": 7,
   "metadata": {
    "ExecuteTime": {
     "end_time": "2019-05-27T22:04:28.564577Z",
     "start_time": "2019-05-27T22:04:28.547025Z"
    }
   },
   "outputs": [
    {
     "name": "stderr",
     "output_type": "stream",
     "text": [
      "D:\\Anaconda3\\envs\\cyber_keras\\lib\\site-packages\\ipykernel_launcher.py:6: DataConversionWarning: Data with input dtype int64, float64 were all converted to float64 by StandardScaler.\n",
      "  \n",
      "D:\\Anaconda3\\envs\\cyber_keras\\lib\\site-packages\\ipykernel_launcher.py:7: DataConversionWarning: Data with input dtype int64, float64 were all converted to float64 by StandardScaler.\n",
      "  import sys\n"
     ]
    }
   ],
   "source": [
    "scaler = StandardScaler().fit(df_train_0_x)\n",
    "df_train_0_x_rescaled = scaler.transform(df_train_0_x)\n",
    "df_valid_0_x_rescaled = scaler.transform(df_valid_0_x)\n",
    "df_valid_x_rescaled = scaler.transform(df_valid.drop(['ATT_FLAG'], axis = 1))\n",
    "\n",
    "df_test_0_x_rescaled = scaler.transform(df_test_0_x)\n",
    "df_test_x_rescaled = scaler.transform(df_test.drop(['ATT_FLAG'], axis = 1))"
   ]
  },
  {
   "cell_type": "markdown",
   "metadata": {},
   "source": [
    "## Set up a neural network with relu-encoder"
   ]
  },
  {
   "cell_type": "code",
   "execution_count": 8,
   "metadata": {
    "ExecuteTime": {
     "end_time": "2019-05-27T22:04:28.613962Z",
     "start_time": "2019-05-27T22:04:28.565802Z"
    }
   },
   "outputs": [
    {
     "name": "stdout",
     "output_type": "stream",
     "text": [
      "WARNING:tensorflow:From D:\\Anaconda3\\envs\\cyber_keras\\lib\\site-packages\\tensorflow\\python\\framework\\op_def_library.py:263: colocate_with (from tensorflow.python.framework.ops) is deprecated and will be removed in a future version.\n",
      "Instructions for updating:\n",
      "Colocations handled automatically by placer.\n"
     ]
    }
   ],
   "source": [
    "nb_epoch = 100\n",
    "batch_size = 128\n",
    "input_dim = df_train_0_x_rescaled.shape[1] #num of predictor variables, \n",
    "encoding_dim = 20\n",
    "hidden_dim = int(encoding_dim / 2)\n",
    "learning_rate = 1e-3\n",
    "\n",
    "input_layer = Input(shape=(input_dim, ))\n",
    "encoder = Dense(encoding_dim, activation=\"tanh\", activity_regularizer=regularizers.l1(learning_rate))(input_layer)\n",
    "encoder = Dense(hidden_dim, activation=\"selu\")(encoder)\n",
    "decoder = Dense(hidden_dim, activation='tanh')(encoder)\n",
    "decoder = Dense(input_dim, activation='selu')(decoder)\n",
    "autoencoder = Model(inputs=input_layer, outputs=decoder)"
   ]
  },
  {
   "cell_type": "markdown",
   "metadata": {},
   "source": [
    "This requires pydot and graphviz installed"
   ]
  },
  {
   "cell_type": "code",
   "execution_count": 9,
   "metadata": {
    "ExecuteTime": {
     "end_time": "2019-05-27T22:04:28.674419Z",
     "start_time": "2019-05-27T22:04:28.615158Z"
    }
   },
   "outputs": [
    {
     "data": {
      "image/svg+xml": [
       "<svg height=\"387pt\" viewBox=\"0.00 0.00 267.00 387.00\" width=\"267pt\" xmlns=\"http://www.w3.org/2000/svg\" xmlns:xlink=\"http://www.w3.org/1999/xlink\">\n",
       "<g class=\"graph\" id=\"graph0\" transform=\"scale(1 1) rotate(0) translate(4 383)\">\n",
       "<title>G</title>\n",
       "<polygon fill=\"white\" points=\"-4,4 -4,-383 263,-383 263,4 -4,4\" stroke=\"none\"/>\n",
       "<!-- 2567280747016 -->\n",
       "<g class=\"node\" id=\"node1\"><title>2567280747016</title>\n",
       "<polygon fill=\"none\" points=\"0,-332.5 0,-378.5 259,-378.5 259,-332.5 0,-332.5\" stroke=\"black\"/>\n",
       "<text font-family=\"Times New Roman,serif\" font-size=\"14.00\" text-anchor=\"middle\" x=\"63\" y=\"-351.8\">input_1: InputLayer</text>\n",
       "<polyline fill=\"none\" points=\"126,-332.5 126,-378.5 \" stroke=\"black\"/>\n",
       "<text font-family=\"Times New Roman,serif\" font-size=\"14.00\" text-anchor=\"middle\" x=\"154\" y=\"-363.3\">input:</text>\n",
       "<polyline fill=\"none\" points=\"126,-355.5 182,-355.5 \" stroke=\"black\"/>\n",
       "<text font-family=\"Times New Roman,serif\" font-size=\"14.00\" text-anchor=\"middle\" x=\"154\" y=\"-340.3\">output:</text>\n",
       "<polyline fill=\"none\" points=\"182,-332.5 182,-378.5 \" stroke=\"black\"/>\n",
       "<text font-family=\"Times New Roman,serif\" font-size=\"14.00\" text-anchor=\"middle\" x=\"220.5\" y=\"-363.3\">(None, 43)</text>\n",
       "<polyline fill=\"none\" points=\"182,-355.5 259,-355.5 \" stroke=\"black\"/>\n",
       "<text font-family=\"Times New Roman,serif\" font-size=\"14.00\" text-anchor=\"middle\" x=\"220.5\" y=\"-340.3\">(None, 43)</text>\n",
       "</g>\n",
       "<!-- 2567280747128 -->\n",
       "<g class=\"node\" id=\"node2\"><title>2567280747128</title>\n",
       "<polygon fill=\"none\" points=\"11,-249.5 11,-295.5 248,-295.5 248,-249.5 11,-249.5\" stroke=\"black\"/>\n",
       "<text font-family=\"Times New Roman,serif\" font-size=\"14.00\" text-anchor=\"middle\" x=\"63\" y=\"-268.8\">dense_1: Dense</text>\n",
       "<polyline fill=\"none\" points=\"115,-249.5 115,-295.5 \" stroke=\"black\"/>\n",
       "<text font-family=\"Times New Roman,serif\" font-size=\"14.00\" text-anchor=\"middle\" x=\"143\" y=\"-280.3\">input:</text>\n",
       "<polyline fill=\"none\" points=\"115,-272.5 171,-272.5 \" stroke=\"black\"/>\n",
       "<text font-family=\"Times New Roman,serif\" font-size=\"14.00\" text-anchor=\"middle\" x=\"143\" y=\"-257.3\">output:</text>\n",
       "<polyline fill=\"none\" points=\"171,-249.5 171,-295.5 \" stroke=\"black\"/>\n",
       "<text font-family=\"Times New Roman,serif\" font-size=\"14.00\" text-anchor=\"middle\" x=\"209.5\" y=\"-280.3\">(None, 43)</text>\n",
       "<polyline fill=\"none\" points=\"171,-272.5 248,-272.5 \" stroke=\"black\"/>\n",
       "<text font-family=\"Times New Roman,serif\" font-size=\"14.00\" text-anchor=\"middle\" x=\"209.5\" y=\"-257.3\">(None, 20)</text>\n",
       "</g>\n",
       "<!-- 2567280747016&#45;&gt;2567280747128 -->\n",
       "<g class=\"edge\" id=\"edge1\"><title>2567280747016-&gt;2567280747128</title>\n",
       "<path d=\"M129.5,-332.366C129.5,-324.152 129.5,-314.658 129.5,-305.725\" fill=\"none\" stroke=\"black\"/>\n",
       "<polygon fill=\"black\" points=\"133,-305.607 129.5,-295.607 126,-305.607 133,-305.607\" stroke=\"black\"/>\n",
       "</g>\n",
       "<!-- 2567276129864 -->\n",
       "<g class=\"node\" id=\"node3\"><title>2567276129864</title>\n",
       "<polygon fill=\"none\" points=\"11,-166.5 11,-212.5 248,-212.5 248,-166.5 11,-166.5\" stroke=\"black\"/>\n",
       "<text font-family=\"Times New Roman,serif\" font-size=\"14.00\" text-anchor=\"middle\" x=\"63\" y=\"-185.8\">dense_2: Dense</text>\n",
       "<polyline fill=\"none\" points=\"115,-166.5 115,-212.5 \" stroke=\"black\"/>\n",
       "<text font-family=\"Times New Roman,serif\" font-size=\"14.00\" text-anchor=\"middle\" x=\"143\" y=\"-197.3\">input:</text>\n",
       "<polyline fill=\"none\" points=\"115,-189.5 171,-189.5 \" stroke=\"black\"/>\n",
       "<text font-family=\"Times New Roman,serif\" font-size=\"14.00\" text-anchor=\"middle\" x=\"143\" y=\"-174.3\">output:</text>\n",
       "<polyline fill=\"none\" points=\"171,-166.5 171,-212.5 \" stroke=\"black\"/>\n",
       "<text font-family=\"Times New Roman,serif\" font-size=\"14.00\" text-anchor=\"middle\" x=\"209.5\" y=\"-197.3\">(None, 20)</text>\n",
       "<polyline fill=\"none\" points=\"171,-189.5 248,-189.5 \" stroke=\"black\"/>\n",
       "<text font-family=\"Times New Roman,serif\" font-size=\"14.00\" text-anchor=\"middle\" x=\"209.5\" y=\"-174.3\">(None, 10)</text>\n",
       "</g>\n",
       "<!-- 2567280747128&#45;&gt;2567276129864 -->\n",
       "<g class=\"edge\" id=\"edge2\"><title>2567280747128-&gt;2567276129864</title>\n",
       "<path d=\"M129.5,-249.366C129.5,-241.152 129.5,-231.658 129.5,-222.725\" fill=\"none\" stroke=\"black\"/>\n",
       "<polygon fill=\"black\" points=\"133,-222.607 129.5,-212.607 126,-222.607 133,-222.607\" stroke=\"black\"/>\n",
       "</g>\n",
       "<!-- 2567280746848 -->\n",
       "<g class=\"node\" id=\"node4\"><title>2567280746848</title>\n",
       "<polygon fill=\"none\" points=\"11,-83.5 11,-129.5 248,-129.5 248,-83.5 11,-83.5\" stroke=\"black\"/>\n",
       "<text font-family=\"Times New Roman,serif\" font-size=\"14.00\" text-anchor=\"middle\" x=\"63\" y=\"-102.8\">dense_3: Dense</text>\n",
       "<polyline fill=\"none\" points=\"115,-83.5 115,-129.5 \" stroke=\"black\"/>\n",
       "<text font-family=\"Times New Roman,serif\" font-size=\"14.00\" text-anchor=\"middle\" x=\"143\" y=\"-114.3\">input:</text>\n",
       "<polyline fill=\"none\" points=\"115,-106.5 171,-106.5 \" stroke=\"black\"/>\n",
       "<text font-family=\"Times New Roman,serif\" font-size=\"14.00\" text-anchor=\"middle\" x=\"143\" y=\"-91.3\">output:</text>\n",
       "<polyline fill=\"none\" points=\"171,-83.5 171,-129.5 \" stroke=\"black\"/>\n",
       "<text font-family=\"Times New Roman,serif\" font-size=\"14.00\" text-anchor=\"middle\" x=\"209.5\" y=\"-114.3\">(None, 10)</text>\n",
       "<polyline fill=\"none\" points=\"171,-106.5 248,-106.5 \" stroke=\"black\"/>\n",
       "<text font-family=\"Times New Roman,serif\" font-size=\"14.00\" text-anchor=\"middle\" x=\"209.5\" y=\"-91.3\">(None, 10)</text>\n",
       "</g>\n",
       "<!-- 2567276129864&#45;&gt;2567280746848 -->\n",
       "<g class=\"edge\" id=\"edge3\"><title>2567276129864-&gt;2567280746848</title>\n",
       "<path d=\"M129.5,-166.366C129.5,-158.152 129.5,-148.658 129.5,-139.725\" fill=\"none\" stroke=\"black\"/>\n",
       "<polygon fill=\"black\" points=\"133,-139.607 129.5,-129.607 126,-139.607 133,-139.607\" stroke=\"black\"/>\n",
       "</g>\n",
       "<!-- 2567276142152 -->\n",
       "<g class=\"node\" id=\"node5\"><title>2567276142152</title>\n",
       "<polygon fill=\"none\" points=\"11,-0.5 11,-46.5 248,-46.5 248,-0.5 11,-0.5\" stroke=\"black\"/>\n",
       "<text font-family=\"Times New Roman,serif\" font-size=\"14.00\" text-anchor=\"middle\" x=\"63\" y=\"-19.8\">dense_4: Dense</text>\n",
       "<polyline fill=\"none\" points=\"115,-0.5 115,-46.5 \" stroke=\"black\"/>\n",
       "<text font-family=\"Times New Roman,serif\" font-size=\"14.00\" text-anchor=\"middle\" x=\"143\" y=\"-31.3\">input:</text>\n",
       "<polyline fill=\"none\" points=\"115,-23.5 171,-23.5 \" stroke=\"black\"/>\n",
       "<text font-family=\"Times New Roman,serif\" font-size=\"14.00\" text-anchor=\"middle\" x=\"143\" y=\"-8.3\">output:</text>\n",
       "<polyline fill=\"none\" points=\"171,-0.5 171,-46.5 \" stroke=\"black\"/>\n",
       "<text font-family=\"Times New Roman,serif\" font-size=\"14.00\" text-anchor=\"middle\" x=\"209.5\" y=\"-31.3\">(None, 10)</text>\n",
       "<polyline fill=\"none\" points=\"171,-23.5 248,-23.5 \" stroke=\"black\"/>\n",
       "<text font-family=\"Times New Roman,serif\" font-size=\"14.00\" text-anchor=\"middle\" x=\"209.5\" y=\"-8.3\">(None, 43)</text>\n",
       "</g>\n",
       "<!-- 2567280746848&#45;&gt;2567276142152 -->\n",
       "<g class=\"edge\" id=\"edge4\"><title>2567280746848-&gt;2567276142152</title>\n",
       "<path d=\"M129.5,-83.3664C129.5,-75.1516 129.5,-65.6579 129.5,-56.7252\" fill=\"none\" stroke=\"black\"/>\n",
       "<polygon fill=\"black\" points=\"133,-56.6068 129.5,-46.6068 126,-56.6069 133,-56.6068\" stroke=\"black\"/>\n",
       "</g>\n",
       "</g>\n",
       "</svg>"
      ],
      "text/plain": [
       "<IPython.core.display.SVG object>"
      ]
     },
     "execution_count": 9,
     "metadata": {},
     "output_type": "execute_result"
    }
   ],
   "source": [
    "from IPython.display import SVG\n",
    "from keras.utils.vis_utils import model_to_dot\n",
    "\n",
    "SVG(model_to_dot(autoencoder, show_shapes=True, show_layer_names=True).create(prog='dot', format='svg'))"
   ]
  },
  {
   "cell_type": "markdown",
   "metadata": {},
   "source": [
    "## Train the network"
   ]
  },
  {
   "cell_type": "code",
   "execution_count": 10,
   "metadata": {
    "ExecuteTime": {
     "end_time": "2019-05-27T22:04:45.768099Z",
     "start_time": "2019-05-27T22:04:28.675989Z"
    }
   },
   "outputs": [
    {
     "name": "stdout",
     "output_type": "stream",
     "text": [
      "WARNING:tensorflow:From D:\\Anaconda3\\envs\\cyber_keras\\lib\\site-packages\\tensorflow\\python\\ops\\math_ops.py:3066: to_int32 (from tensorflow.python.ops.math_ops) is deprecated and will be removed in a future version.\n",
      "Instructions for updating:\n",
      "Use tf.cast instead.\n",
      "Train on 11446 samples, validate on 1273 samples\n",
      "Epoch 1/100\n",
      "11446/11446 [==============================] - 3s 237us/step - loss: 1.8534 - acc: 0.0858 - val_loss: 1.4161 - val_acc: 0.1076\n",
      "Epoch 2/100\n",
      "11446/11446 [==============================] - 0s 30us/step - loss: 1.1166 - acc: 0.1209 - val_loss: 0.8970 - val_acc: 0.1838\n",
      "Epoch 3/100\n",
      "11446/11446 [==============================] - 0s 28us/step - loss: 0.7745 - acc: 0.1999 - val_loss: 0.6980 - val_acc: 0.2341\n",
      "Epoch 4/100\n",
      "11446/11446 [==============================] - 0s 29us/step - loss: 0.6289 - acc: 0.2376 - val_loss: 0.5918 - val_acc: 0.2789\n",
      "Epoch 5/100\n",
      "11446/11446 [==============================] - 0s 31us/step - loss: 0.5464 - acc: 0.2805 - val_loss: 0.5311 - val_acc: 0.3284\n",
      "Epoch 6/100\n",
      "11446/11446 [==============================] - 0s 31us/step - loss: 0.4970 - acc: 0.3167 - val_loss: 0.4919 - val_acc: 0.3362\n",
      "Epoch 7/100\n",
      "11446/11446 [==============================] - 0s 30us/step - loss: 0.4622 - acc: 0.3269 - val_loss: 0.4620 - val_acc: 0.3590\n",
      "Epoch 8/100\n",
      "11446/11446 [==============================] - 0s 30us/step - loss: 0.4355 - acc: 0.3407 - val_loss: 0.4409 - val_acc: 0.3833\n",
      "Epoch 9/100\n",
      "11446/11446 [==============================] - 0s 30us/step - loss: 0.4127 - acc: 0.3695 - val_loss: 0.4187 - val_acc: 0.4014\n",
      "Epoch 10/100\n",
      "11446/11446 [==============================] - 0s 30us/step - loss: 0.3915 - acc: 0.3946 - val_loss: 0.3969 - val_acc: 0.4069\n",
      "Epoch 11/100\n",
      "11446/11446 [==============================] - 0s 31us/step - loss: 0.3703 - acc: 0.4118 - val_loss: 0.3787 - val_acc: 0.4171\n",
      "Epoch 12/100\n",
      "11446/11446 [==============================] - 0s 30us/step - loss: 0.3521 - acc: 0.4142 - val_loss: 0.3602 - val_acc: 0.4383\n",
      "Epoch 13/100\n",
      "11446/11446 [==============================] - 0s 34us/step - loss: 0.3353 - acc: 0.4310 - val_loss: 0.3467 - val_acc: 0.4478\n",
      "Epoch 14/100\n",
      "11446/11446 [==============================] - 0s 33us/step - loss: 0.3223 - acc: 0.4329 - val_loss: 0.3347 - val_acc: 0.4603\n",
      "Epoch 15/100\n",
      "11446/11446 [==============================] - 0s 33us/step - loss: 0.3103 - acc: 0.4519 - val_loss: 0.3255 - val_acc: 0.4698\n",
      "Epoch 16/100\n",
      "11446/11446 [==============================] - 0s 31us/step - loss: 0.3020 - acc: 0.4672 - val_loss: 0.3185 - val_acc: 0.4855\n",
      "Epoch 17/100\n",
      "11446/11446 [==============================] - 0s 30us/step - loss: 0.2944 - acc: 0.4728 - val_loss: 0.3086 - val_acc: 0.4831\n",
      "Epoch 18/100\n",
      "11446/11446 [==============================] - 0s 30us/step - loss: 0.2867 - acc: 0.4782 - val_loss: 0.3032 - val_acc: 0.4957\n",
      "Epoch 19/100\n",
      "11446/11446 [==============================] - 0s 30us/step - loss: 0.2813 - acc: 0.4839 - val_loss: 0.2983 - val_acc: 0.4855\n",
      "Epoch 20/100\n",
      "11446/11446 [==============================] - 0s 31us/step - loss: 0.2763 - acc: 0.4856 - val_loss: 0.2946 - val_acc: 0.4894\n",
      "Epoch 21/100\n",
      "11446/11446 [==============================] - 0s 30us/step - loss: 0.2727 - acc: 0.4893 - val_loss: 0.2908 - val_acc: 0.4925\n",
      "Epoch 22/100\n",
      "11446/11446 [==============================] - 0s 30us/step - loss: 0.2679 - acc: 0.4982 - val_loss: 0.2871 - val_acc: 0.4933\n",
      "Epoch 23/100\n",
      "11446/11446 [==============================] - 0s 31us/step - loss: 0.2644 - acc: 0.4976 - val_loss: 0.2822 - val_acc: 0.5067\n",
      "Epoch 24/100\n",
      "11446/11446 [==============================] - 0s 30us/step - loss: 0.2595 - acc: 0.4992 - val_loss: 0.2789 - val_acc: 0.4925\n",
      "Epoch 25/100\n",
      "11446/11446 [==============================] - 0s 31us/step - loss: 0.2574 - acc: 0.4985 - val_loss: 0.2769 - val_acc: 0.4870\n",
      "Epoch 26/100\n",
      "11446/11446 [==============================] - 0s 33us/step - loss: 0.2545 - acc: 0.4975 - val_loss: 0.2731 - val_acc: 0.5122\n",
      "Epoch 27/100\n",
      "11446/11446 [==============================] - 0s 31us/step - loss: 0.2511 - acc: 0.4979 - val_loss: 0.2707 - val_acc: 0.5012\n",
      "Epoch 28/100\n",
      "11446/11446 [==============================] - 0s 31us/step - loss: 0.2488 - acc: 0.4948 - val_loss: 0.2680 - val_acc: 0.5216\n",
      "Epoch 29/100\n",
      "11446/11446 [==============================] - 0s 30us/step - loss: 0.2466 - acc: 0.4931 - val_loss: 0.2632 - val_acc: 0.5043\n",
      "Epoch 30/100\n",
      "11446/11446 [==============================] - 0s 30us/step - loss: 0.2435 - acc: 0.4980 - val_loss: 0.2620 - val_acc: 0.5012\n",
      "Epoch 31/100\n",
      "11446/11446 [==============================] - 0s 31us/step - loss: 0.2416 - acc: 0.4964 - val_loss: 0.2641 - val_acc: 0.4831\n",
      "Epoch 32/100\n",
      "11446/11446 [==============================] - 0s 30us/step - loss: 0.2375 - acc: 0.5002 - val_loss: 0.2565 - val_acc: 0.4941\n",
      "Epoch 33/100\n",
      "11446/11446 [==============================] - 0s 29us/step - loss: 0.2356 - acc: 0.4952 - val_loss: 0.2522 - val_acc: 0.4988\n",
      "Epoch 34/100\n",
      "11446/11446 [==============================] - 0s 34us/step - loss: 0.2318 - acc: 0.4992 - val_loss: 0.2535 - val_acc: 0.4800\n",
      "Epoch 35/100\n",
      "11446/11446 [==============================] - 0s 29us/step - loss: 0.2299 - acc: 0.4990 - val_loss: 0.2495 - val_acc: 0.5114\n",
      "Epoch 36/100\n",
      "11446/11446 [==============================] - 0s 30us/step - loss: 0.2272 - acc: 0.4948 - val_loss: 0.2477 - val_acc: 0.4902\n",
      "Epoch 37/100\n",
      "11446/11446 [==============================] - 0s 31us/step - loss: 0.2239 - acc: 0.5010 - val_loss: 0.2428 - val_acc: 0.4957\n",
      "Epoch 38/100\n",
      "11446/11446 [==============================] - 0s 31us/step - loss: 0.2189 - acc: 0.5084 - val_loss: 0.2397 - val_acc: 0.5059\n",
      "Epoch 39/100\n",
      "11446/11446 [==============================] - 0s 31us/step - loss: 0.2154 - acc: 0.5067 - val_loss: 0.2349 - val_acc: 0.5232\n",
      "Epoch 40/100\n",
      "11446/11446 [==============================] - 0s 31us/step - loss: 0.2112 - acc: 0.5114 - val_loss: 0.2339 - val_acc: 0.4980\n",
      "Epoch 41/100\n",
      "11446/11446 [==============================] - 0s 31us/step - loss: 0.2105 - acc: 0.5106 - val_loss: 0.2293 - val_acc: 0.4933\n",
      "Epoch 42/100\n",
      "11446/11446 [==============================] - 0s 32us/step - loss: 0.2068 - acc: 0.5126 - val_loss: 0.2320 - val_acc: 0.5145\n",
      "Epoch 43/100\n",
      "11446/11446 [==============================] - 0s 31us/step - loss: 0.2032 - acc: 0.5176 - val_loss: 0.2252 - val_acc: 0.5200\n",
      "Epoch 44/100\n",
      "11446/11446 [==============================] - 0s 31us/step - loss: 0.2000 - acc: 0.5211 - val_loss: 0.2228 - val_acc: 0.5004\n",
      "Epoch 45/100\n",
      "11446/11446 [==============================] - 0s 30us/step - loss: 0.1987 - acc: 0.5234 - val_loss: 0.2215 - val_acc: 0.5263\n",
      "Epoch 46/100\n",
      "11446/11446 [==============================] - 0s 30us/step - loss: 0.1966 - acc: 0.5280 - val_loss: 0.2191 - val_acc: 0.5302\n",
      "Epoch 47/100\n",
      "11446/11446 [==============================] - 0s 29us/step - loss: 0.1957 - acc: 0.5282 - val_loss: 0.2171 - val_acc: 0.5302\n",
      "Epoch 48/100\n",
      "11446/11446 [==============================] - 0s 29us/step - loss: 0.1932 - acc: 0.5315 - val_loss: 0.2161 - val_acc: 0.5255\n",
      "Epoch 49/100\n",
      "11446/11446 [==============================] - 0s 29us/step - loss: 0.1927 - acc: 0.5334 - val_loss: 0.2177 - val_acc: 0.5224\n",
      "Epoch 50/100\n",
      "11446/11446 [==============================] - 0s 29us/step - loss: 0.1903 - acc: 0.5392 - val_loss: 0.2146 - val_acc: 0.5200\n",
      "Epoch 51/100\n",
      "11446/11446 [==============================] - 0s 30us/step - loss: 0.1911 - acc: 0.5380 - val_loss: 0.2128 - val_acc: 0.4878\n",
      "Epoch 52/100\n",
      "11446/11446 [==============================] - 0s 30us/step - loss: 0.1879 - acc: 0.5453 - val_loss: 0.2087 - val_acc: 0.5302\n",
      "Epoch 53/100\n",
      "11446/11446 [==============================] - 0s 30us/step - loss: 0.1884 - acc: 0.5496 - val_loss: 0.2095 - val_acc: 0.5585\n",
      "Epoch 54/100\n",
      "11446/11446 [==============================] - 0s 30us/step - loss: 0.1880 - acc: 0.5505 - val_loss: 0.2076 - val_acc: 0.5412\n",
      "Epoch 55/100\n",
      "11446/11446 [==============================] - 0s 30us/step - loss: 0.1839 - acc: 0.5547 - val_loss: 0.2060 - val_acc: 0.5711\n",
      "Epoch 56/100\n",
      "11446/11446 [==============================] - 0s 31us/step - loss: 0.1846 - acc: 0.5484 - val_loss: 0.2042 - val_acc: 0.5318\n",
      "Epoch 57/100\n",
      "11446/11446 [==============================] - 0s 31us/step - loss: 0.1842 - acc: 0.5489 - val_loss: 0.2008 - val_acc: 0.5609\n"
     ]
    },
    {
     "name": "stdout",
     "output_type": "stream",
     "text": [
      "Epoch 58/100\n",
      "11446/11446 [==============================] - 0s 32us/step - loss: 0.1816 - acc: 0.5589 - val_loss: 0.2102 - val_acc: 0.5727\n",
      "Epoch 59/100\n",
      "11446/11446 [==============================] - 0s 32us/step - loss: 0.1809 - acc: 0.5541 - val_loss: 0.2004 - val_acc: 0.5734\n",
      "Epoch 60/100\n",
      "11446/11446 [==============================] - 0s 31us/step - loss: 0.1787 - acc: 0.5622 - val_loss: 0.1974 - val_acc: 0.5515\n",
      "Epoch 61/100\n",
      "11446/11446 [==============================] - 0s 32us/step - loss: 0.1775 - acc: 0.5584 - val_loss: 0.1986 - val_acc: 0.5719\n",
      "Epoch 62/100\n",
      "11446/11446 [==============================] - 0s 31us/step - loss: 0.1796 - acc: 0.5550 - val_loss: 0.2022 - val_acc: 0.5412\n",
      "Epoch 63/100\n",
      "11446/11446 [==============================] - 0s 30us/step - loss: 0.1775 - acc: 0.5575 - val_loss: 0.1985 - val_acc: 0.5216\n",
      "Epoch 64/100\n",
      "11446/11446 [==============================] - 0s 32us/step - loss: 0.1789 - acc: 0.5550 - val_loss: 0.1948 - val_acc: 0.5687\n",
      "Epoch 65/100\n",
      "11446/11446 [==============================] - 0s 30us/step - loss: 0.1747 - acc: 0.5633 - val_loss: 0.1904 - val_acc: 0.5601\n",
      "Epoch 66/100\n",
      "11446/11446 [==============================] - 0s 31us/step - loss: 0.1748 - acc: 0.5628 - val_loss: 0.1919 - val_acc: 0.5821\n",
      "Epoch 67/100\n",
      "11446/11446 [==============================] - 0s 31us/step - loss: 0.1730 - acc: 0.5651 - val_loss: 0.1902 - val_acc: 0.5436\n",
      "Epoch 68/100\n",
      "11446/11446 [==============================] - 0s 32us/step - loss: 0.1743 - acc: 0.5619 - val_loss: 0.1934 - val_acc: 0.5185\n",
      "Epoch 69/100\n",
      "11446/11446 [==============================] - 0s 31us/step - loss: 0.1723 - acc: 0.5633 - val_loss: 0.1866 - val_acc: 0.5679\n",
      "Epoch 70/100\n",
      "11446/11446 [==============================] - 0s 32us/step - loss: 0.1714 - acc: 0.5603 - val_loss: 0.1870 - val_acc: 0.5734\n",
      "Epoch 71/100\n",
      "11446/11446 [==============================] - 0s 32us/step - loss: 0.1710 - acc: 0.5615 - val_loss: 0.1862 - val_acc: 0.5837\n",
      "Epoch 72/100\n",
      "11446/11446 [==============================] - 0s 33us/step - loss: 0.1750 - acc: 0.5530 - val_loss: 0.1870 - val_acc: 0.5585\n",
      "Epoch 73/100\n",
      "11446/11446 [==============================] - 0s 30us/step - loss: 0.1684 - acc: 0.5688 - val_loss: 0.1831 - val_acc: 0.5467\n",
      "Epoch 74/100\n",
      "11446/11446 [==============================] - 0s 30us/step - loss: 0.1671 - acc: 0.5676 - val_loss: 0.1817 - val_acc: 0.5672\n",
      "Epoch 75/100\n",
      "11446/11446 [==============================] - 0s 31us/step - loss: 0.1671 - acc: 0.5648 - val_loss: 0.1815 - val_acc: 0.5310\n",
      "Epoch 76/100\n",
      "11446/11446 [==============================] - 0s 31us/step - loss: 0.1675 - acc: 0.5639 - val_loss: 0.1832 - val_acc: 0.5734\n",
      "Epoch 77/100\n",
      "11446/11446 [==============================] - 0s 30us/step - loss: 0.1658 - acc: 0.5649 - val_loss: 0.1781 - val_acc: 0.5585\n",
      "Epoch 78/100\n",
      "11446/11446 [==============================] - 0s 31us/step - loss: 0.1665 - acc: 0.5618 - val_loss: 0.1826 - val_acc: 0.5750\n",
      "Epoch 79/100\n",
      "11446/11446 [==============================] - 0s 31us/step - loss: 0.1666 - acc: 0.5643 - val_loss: 0.1784 - val_acc: 0.5279\n",
      "Epoch 80/100\n",
      "11446/11446 [==============================] - 0s 29us/step - loss: 0.1659 - acc: 0.5592 - val_loss: 0.1762 - val_acc: 0.5436\n",
      "Epoch 81/100\n",
      "11446/11446 [==============================] - 0s 30us/step - loss: 0.1624 - acc: 0.5689 - val_loss: 0.1748 - val_acc: 0.5295\n",
      "Epoch 82/100\n",
      "11446/11446 [==============================] - 0s 30us/step - loss: 0.1628 - acc: 0.5688 - val_loss: 0.1728 - val_acc: 0.5625\n",
      "Epoch 83/100\n",
      "11446/11446 [==============================] - 0s 29us/step - loss: 0.1618 - acc: 0.5695 - val_loss: 0.1712 - val_acc: 0.5554\n",
      "Epoch 84/100\n",
      "11446/11446 [==============================] - 0s 30us/step - loss: 0.1615 - acc: 0.5721 - val_loss: 0.1759 - val_acc: 0.5601\n",
      "Epoch 85/100\n",
      "11446/11446 [==============================] - 0s 31us/step - loss: 0.1629 - acc: 0.5641 - val_loss: 0.1713 - val_acc: 0.5664\n",
      "Epoch 86/100\n",
      "11446/11446 [==============================] - 0s 29us/step - loss: 0.1606 - acc: 0.5654 - val_loss: 0.1706 - val_acc: 0.5617\n",
      "Epoch 87/100\n",
      "11446/11446 [==============================] - 0s 30us/step - loss: 0.1590 - acc: 0.5714 - val_loss: 0.1679 - val_acc: 0.5711\n",
      "Epoch 88/100\n",
      "11446/11446 [==============================] - 0s 30us/step - loss: 0.1589 - acc: 0.5674 - val_loss: 0.1706 - val_acc: 0.5507\n",
      "Epoch 89/100\n",
      "11446/11446 [==============================] - 0s 29us/step - loss: 0.1590 - acc: 0.5683 - val_loss: 0.1685 - val_acc: 0.5632\n",
      "Epoch 90/100\n",
      "11446/11446 [==============================] - 0s 30us/step - loss: 0.1576 - acc: 0.5682 - val_loss: 0.1693 - val_acc: 0.5931\n",
      "Epoch 91/100\n",
      "11446/11446 [==============================] - 0s 30us/step - loss: 0.1575 - acc: 0.5705 - val_loss: 0.1654 - val_acc: 0.5868\n",
      "Epoch 92/100\n",
      "11446/11446 [==============================] - 0s 31us/step - loss: 0.1567 - acc: 0.5707 - val_loss: 0.1710 - val_acc: 0.5789\n",
      "Epoch 93/100\n",
      "11446/11446 [==============================] - 0s 30us/step - loss: 0.1640 - acc: 0.5571 - val_loss: 0.1671 - val_acc: 0.5672\n",
      "Epoch 94/100\n",
      "11446/11446 [==============================] - 0s 30us/step - loss: 0.1553 - acc: 0.5765 - val_loss: 0.1617 - val_acc: 0.5703\n",
      "Epoch 95/100\n",
      "11446/11446 [==============================] - 0s 32us/step - loss: 0.1540 - acc: 0.5757 - val_loss: 0.1629 - val_acc: 0.5672\n",
      "Epoch 96/100\n",
      "11446/11446 [==============================] - 0s 31us/step - loss: 0.1549 - acc: 0.5684 - val_loss: 0.1647 - val_acc: 0.5782\n",
      "Epoch 97/100\n",
      "11446/11446 [==============================] - 0s 31us/step - loss: 0.1543 - acc: 0.5700 - val_loss: 0.1607 - val_acc: 0.5844\n",
      "Epoch 98/100\n",
      "11446/11446 [==============================] - 0s 28us/step - loss: 0.1541 - acc: 0.5737 - val_loss: 0.1608 - val_acc: 0.5734\n",
      "Epoch 99/100\n",
      "11446/11446 [==============================] - 0s 30us/step - loss: 0.1534 - acc: 0.5731 - val_loss: 0.1629 - val_acc: 0.5593\n",
      "Epoch 100/100\n",
      "11446/11446 [==============================] - 0s 34us/step - loss: 0.1529 - acc: 0.5705 - val_loss: 0.1592 - val_acc: 0.5727\n"
     ]
    }
   ],
   "source": [
    "autoencoder.compile(metrics=['accuracy'],\n",
    "                    loss='mean_squared_error',\n",
    "                    optimizer='adam')\n",
    "\n",
    "cp = ModelCheckpoint(filepath=\"autoencoder_classifier.h5\",\n",
    "                               save_best_only=True,\n",
    "                               verbose=0)\n",
    "\n",
    "tb = TensorBoard(log_dir='./logs',\n",
    "                histogram_freq=0,\n",
    "                write_graph=True,\n",
    "                write_images=True)\n",
    "\n",
    "history = autoencoder.fit(df_train_0_x_rescaled, df_train_0_x_rescaled,\n",
    "                    epochs=nb_epoch,\n",
    "                    batch_size=batch_size,\n",
    "                    shuffle=True,\n",
    "                    validation_data=(df_valid_0_x_rescaled, df_valid_0_x_rescaled),\n",
    "                    verbose=1,\n",
    "                    callbacks=[cp, tb]).history"
   ]
  },
  {
   "cell_type": "markdown",
   "metadata": {},
   "source": [
    "## Validate "
   ]
  },
  {
   "cell_type": "code",
   "execution_count": 11,
   "metadata": {
    "ExecuteTime": {
     "end_time": "2019-05-27T22:04:45.949468Z",
     "start_time": "2019-05-27T22:04:45.769509Z"
    }
   },
   "outputs": [
    {
     "data": {
      "image/png": "[encoded data removed]",
      "text/plain": [
       "<Figure size 432x288 with 1 Axes>"
      ]
     },
     "metadata": {},
     "output_type": "display_data"
    }
   ],
   "source": [
    "valid_x_predictions = autoencoder.predict(df_valid_x_rescaled)\n",
    "mse = np.mean(np.power(df_valid_x_rescaled - valid_x_predictions, 2), axis=1)\n",
    "error_df = pd.DataFrame({'Reconstruction_error': mse,\n",
    "                        'True_class': df_valid['ATT_FLAG'] == 1})\n",
    "\n",
    "precision_rt, recall_rt, threshold_rt = precision_recall_curve(error_df.True_class, error_df.Reconstruction_error)\n",
    "sns.set()\n",
    "plt.plot(threshold_rt, precision_rt[1:], label=\"Precision\",linewidth=5)\n",
    "plt.plot(threshold_rt, recall_rt[1:], label=\"Recall\",linewidth=5)\n",
    "plt.title('Precision and recall for different threshold values')\n",
    "plt.xticks(range(0, 35, 2))\n",
    "plt.xlabel('Threshold / reconstruction error')\n",
    "plt.ylabel('Precision/Recall')\n",
    "plt.legend()\n",
    "plt.show()"
   ]
  },
  {
   "cell_type": "markdown",
   "metadata": {},
   "source": [
    "## Evaluate on testing\n",
    "\n",
    "based on the above plot, choose a fixed threshold when the reconstruction error is too large"
   ]
  },
  {
   "cell_type": "code",
   "execution_count": 12,
   "metadata": {
    "ExecuteTime": {
     "end_time": "2019-05-27T22:04:46.125354Z",
     "start_time": "2019-05-27T22:04:45.951432Z"
    }
   },
   "outputs": [
    {
     "data": {
      "image/png": "[encoded data removed]",
      "text/plain": [
       "<Figure size 648x504 with 1 Axes>"
      ]
     },
     "metadata": {},
     "output_type": "display_data"
    }
   ],
   "source": [
    "threshold_fixed = 0.35\n",
    "\n",
    "test_x_predictions = autoencoder.predict(df_test_x_rescaled)\n",
    "mse = np.mean(np.power(df_test_x_rescaled - test_x_predictions, 2), axis=1)\n",
    "error_df_test = pd.DataFrame({'Reconstruction_error': mse,\n",
    "                        'True_class': df_test['ATT_FLAG']})\n",
    "error_df_test = error_df_test.reset_index()\n",
    "\n",
    "groups = error_df_test.groupby('True_class')\n",
    "\n",
    "sns.set()\n",
    "plt.figure(figsize=(9,7))\n",
    "ax = plt.subplot(111)\n",
    "\n",
    "for name, group in groups:\n",
    "    ax.plot(group.index, group.Reconstruction_error, marker='o', ms=3.5, linestyle='',\n",
    "            label= \"Attack\" if name == 1 else \"Normal\")\n",
    "ax.hlines(threshold_fixed, ax.get_xlim()[0], ax.get_xlim()[1], colors=\"r\", zorder=100, label='Threshold', linewidth=2.0)\n",
    "ax.legend()\n",
    "plt.title(\"Reconstruction error for different classes\")\n",
    "plt.ylabel(\"Reconstruction error\")\n",
    "plt.xlabel(\"Data point index\")\n",
    "plt.savefig(\"bonus_reconstruct_err.png\", dpi = 120, \n",
    "    bbox_inches='tight')\n",
    "plt.show()"
   ]
  },
  {
   "cell_type": "markdown",
   "metadata": {},
   "source": [
    "### Use autoencoder to predict outliers\n",
    "\n",
    "Predict *attack* label if reconstruction error larger than the chosen threshold"
   ]
  },
  {
   "cell_type": "code",
   "execution_count": 13,
   "metadata": {
    "ExecuteTime": {
     "end_time": "2019-05-27T22:04:46.261639Z",
     "start_time": "2019-05-27T22:04:46.126878Z"
    }
   },
   "outputs": [
    {
     "data": {
      "image/png": "[encoded data removed]",
      "text/plain": [
       "<Figure size 864x864 with 2 Axes>"
      ]
     },
     "metadata": {},
     "output_type": "display_data"
    }
   ],
   "source": [
    "pred_y = [1 if e > threshold_fixed else 0 for e in error_df_test.Reconstruction_error.values]\n",
    "\n",
    "conf_matrix = confusion_matrix(error_df_test.True_class, pred_y)\n",
    "\n",
    "plt.figure(figsize=(12, 12))\n",
    "sns.heatmap(conf_matrix, xticklabels=LABELS, yticklabels=LABELS, annot=True, fmt=\"d\");\n",
    "plt.title(\"Confusion matrix\")\n",
    "plt.ylabel('True class')\n",
    "plt.xlabel('Predicted class')\n",
    "plt.savefig(\"bonus_conf_mat.png\", dpi = 120, \n",
    "    bbox_inches='tight')\n",
    "plt.show()"
   ]
  },
  {
   "cell_type": "markdown",
   "metadata": {},
   "source": [
    "Plot the ROC curve for the chosen threshold"
   ]
  },
  {
   "cell_type": "code",
   "execution_count": 14,
   "metadata": {
    "ExecuteTime": {
     "end_time": "2019-05-27T22:04:46.390614Z",
     "start_time": "2019-05-27T22:04:46.265629Z"
    }
   },
   "outputs": [
    {
     "data": {
      "image/png": "[encoded data removed]",
      "text/plain": [
       "<Figure size 432x288 with 1 Axes>"
      ]
     },
     "metadata": {},
     "output_type": "display_data"
    }
   ],
   "source": [
    "false_pos_rate, true_pos_rate, thresholds = roc_curve(error_df.True_class, error_df.Reconstruction_error)\n",
    "roc_auc = auc(false_pos_rate, true_pos_rate,)\n",
    "\n",
    "plt.plot(false_pos_rate, true_pos_rate, linewidth=5, label='AUC = %0.3f'% roc_auc)\n",
    "plt.plot([0,1],[0,1], linewidth=5)\n",
    "\n",
    "plt.xlim([-0.01, 1])\n",
    "plt.ylim([0, 1.01])\n",
    "plt.legend(loc='lower right')\n",
    "plt.title('Receiver operating characteristic curve (ROC)')\n",
    "plt.ylabel('True Positive Rate')\n",
    "plt.xlabel('False Positive Rate')\n",
    "plt.show()"
   ]
  },
  {
   "cell_type": "code",
   "execution_count": 16,
   "metadata": {},
   "outputs": [
    {
     "name": "stdout",
     "output_type": "stream",
     "text": [
      "              precision    recall  f1-score   support\n",
      "\n",
      "           0       0.91      1.00      0.95      1682\n",
      "           1       0.97      0.60      0.74       407\n",
      "\n",
      "   micro avg       0.92      0.92      0.92      2089\n",
      "   macro avg       0.94      0.80      0.84      2089\n",
      "weighted avg       0.92      0.92      0.91      2089\n",
      "\n"
     ]
    }
   ],
   "source": [
    "from sklearn.metrics import classification_report\n",
    "print(classification_report(error_df_test.True_class, pred_y))"
   ]
  }
 ],
 "metadata": {
  "kernelspec": {
   "display_name": "Python 3",
   "language": "python",
   "name": "python3"
  },
  "language_info": {
   "codemirror_mode": {
    "name": "ipython",
    "version": 3
   },
   "file_extension": ".py",
   "mimetype": "text/x-python",
   "name": "python",
   "nbconvert_exporter": "python",
   "pygments_lexer": "ipython3",
   "version": "3.6.8"
  }
 },
 "nbformat": 4,
 "nbformat_minor": 2
}
